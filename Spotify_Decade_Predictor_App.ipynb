{
 "cells": [
  {
   "cell_type": "code",
   "execution_count": 1,
   "id": "1a0582ea",
   "metadata": {},
   "outputs": [],
   "source": [
    "# Import the modules\n",
    "import numpy as np\n",
    "import pandas as pd\n",
    "from pathlib import Path\n",
    "from sklearn.metrics import balanced_accuracy_score, confusion_matrix, classification_report\n",
    "from sklearn.preprocessing import StandardScaler\n",
    "from IPython.display import display, clear_output\n",
    "\n",
    "from sklearn.ensemble import RandomForestClassifier\n",
    "import joblib\n",
    "\n",
    "#Load the Trained Model and the fit Scaler\n",
    "rfModel = joblib.load('rfModel.joblib')\n",
    "scaler = joblib.load('scaler.joblib')"
   ]
  },
  {
   "cell_type": "code",
   "execution_count": 2,
   "id": "3730bd76",
   "metadata": {},
   "outputs": [],
   "source": [
    "import spotipy\n",
    "from spotipy.oauth2 import SpotifyClientCredentials\n",
    "\n",
    "import ipywidgets as widgets\n",
    "from IPython.display import display"
   ]
  },
  {
   "cell_type": "code",
   "execution_count": 3,
   "id": "6293d6eb",
   "metadata": {},
   "outputs": [],
   "source": [
    "# Set up your Spotify API credentials\n",
    "client_id = '7f37bb631ed34cf29a487f88d5c5e32f'\n",
    "client_secret = 'aff5f020a49b470f99d7a3c251f5b649'\n",
    "\n",
    "# Authenticate with the Spotify API\n",
    "client_credentials_manager = SpotifyClientCredentials(client_id=client_id, client_secret=client_secret)\n",
    "sp = spotipy.Spotify(client_credentials_manager=client_credentials_manager)\n",
    "\n",
    "# Define a function to get track audio features\n",
    "def get_track_audio_features(artist_name, track_name):\n",
    "    # Search for the track\n",
    "    results = sp.search(q=f\"artist:{artist_name} track:{track_name}\", type='track')\n",
    "\n",
    "    # Check if the search results contain any tracks\n",
    "    if len(results['tracks']['items']) == 0:\n",
    "        print(f\"No track found for '{artist_name} - {track_name}'\")\n",
    "        return None\n",
    "\n",
    "    # Get the first track from the search results\n",
    "    track = results['tracks']['items'][0]\n",
    "\n",
    "    # Get the track's ID\n",
    "    track_id = track['id']\n",
    "\n",
    "    # Get audio features for the track\n",
    "    audio_features = sp.audio_features(track_id)\n",
    "\n",
    "    # Extract desired features\n",
    "    track_features = {}\n",
    "#    track_features['Artist'] = artist_name\n",
    "#    track_features['Track'] = track_name\n",
    "    track_features['Valence'] = audio_features[0]['valence']\n",
    "    track_features['Acousticness'] = audio_features[0]['acousticness']\n",
    "    track_features['Danceability'] = audio_features[0]['danceability']\n",
    "    track_features['Duration (ms)'] = audio_features[0]['duration_ms']\n",
    "    track_features['Energy'] = audio_features[0]['energy']\n",
    "    track_features['Explicit'] = track['explicit']\n",
    "    track_features['Instrumentalness'] = audio_features[0]['instrumentalness']\n",
    "    track_features['Key'] = audio_features[0]['key']\n",
    "    track_features['Liveness'] = audio_features[0]['liveness']\n",
    "    track_features['Loudness'] = audio_features[0]['loudness']\n",
    "    track_features['Mode'] = audio_features[0]['mode']\n",
    "    track_features['Popularity'] = track['popularity']\n",
    "    track_features['Speechiness'] = audio_features[0]['speechiness']\n",
    "    track_features['Tempo'] = audio_features[0]['tempo']\n",
    "    \n",
    "    # Get the release date of the track\n",
    "    release_date = track['album']['release_date']\n",
    "    actual_year = release_date.split('-')[0]       # Extract the year from the release date\n",
    "\n",
    "    return track_features, actual_year\n"
   ]
  },
  {
   "cell_type": "code",
   "execution_count": 4,
   "id": "5284617e",
   "metadata": {},
   "outputs": [],
   "source": [
    "def predict_decade(feature_array): \n",
    "    feature_array = np.array(feature_array).reshape(1, -1)\n",
    "    spotify_track_scaled = scaler.transform(feature_array)  # Preprocess the sample data using the scaler\n",
    "\n",
    "    # Make the prediction\n",
    "    predicted_decade = rfModel.predict(spotify_track_scaled)\n",
    "    \n",
    "    return predicted_decade\n"
   ]
  },
  {
   "cell_type": "code",
   "execution_count": 5,
   "id": "d4e857ad",
   "metadata": {},
   "outputs": [],
   "source": [
    "def show_track_prediction(track_name, artist_name):\n",
    "    # Get the user input\n",
    "    #track_name = track_name_widget.value\n",
    "    #artist_name = artist_name_widget.value\n",
    "\n",
    "    # Print the user input\n",
    "    print(f\"Track Name: {track_name}\")\n",
    "    print(f\"Artist Name: {artist_name}\")\n",
    "\n",
    "    track_features, actual_year = get_track_audio_features(artist_name, track_name)\n",
    "\n",
    "    # Check if track features are available\n",
    "    if track_features is not None:\n",
    "\n",
    "        # Convert the dictionary to an array\n",
    "        feature_array = [track_features[key] for key in track_features]\n",
    "\n",
    "        predicted_decade = predict_decade(feature_array)\n",
    "        \n",
    "        return predicted_decade, actual_year\n"
   ]
  },
  {
   "cell_type": "code",
   "execution_count": 6,
   "id": "353f0151",
   "metadata": {},
   "outputs": [
    {
     "data": {
      "application/vnd.jupyter.widget-view+json": {
       "model_id": "7698cafb3c154011a77c35eea093e997",
       "version_major": 2,
       "version_minor": 0
      },
      "text/plain": [
       "VBox(children=(Text(value='', description='Track Name:'), Text(value='', description='Artist Name:'), Button(d…"
      ]
     },
     "metadata": {},
     "output_type": "display_data"
    }
   ],
   "source": [
    "# Create text input widgets\n",
    "track_name_widget = widgets.Text(description='Track Name:')\n",
    "artist_name_widget = widgets.Text(description='Artist Name:')\n",
    "\n",
    "# Create button widget\n",
    "button = widgets.Button(description='Get Decade')\n",
    "output = widgets.Output()\n",
    "\n",
    "# Define function to handle button click event\n",
    "def on_button_click(b):\n",
    "    track_name = track_name_widget.value\n",
    "    artist_name = artist_name_widget.value       \n",
    "    \n",
    "    with output:\n",
    "        clear_output(wait=True) \n",
    "\n",
    "        predicted_decade, actual_year = show_track_prediction(track_name, artist_name)\n",
    "        \n",
    "        print(f\"Predicted decade for '{track_name}' by {artist_name}: {predicted_decade[0]}\")\n",
    "        print(f\"Actual year for '{track_name}' by {artist_name}: {actual_year}\")\n",
    "\n",
    "    \n",
    "# Attach button click event handler\n",
    "button.on_click(on_button_click)\n",
    "\n",
    "#info = Markdown(\"\"\"# SPOTIFY DECADE PREDICTOR\"\"\")\n",
    "makeDisplay = widgets.VBox([track_name_widget, artist_name_widget,  button, output])\n",
    "display(makeDisplay)"
   ]
  },
  {
   "cell_type": "code",
   "execution_count": null,
   "id": "0916a856",
   "metadata": {},
   "outputs": [],
   "source": []
  }
 ],
 "metadata": {
  "kernelspec": {
   "display_name": "Python 3 (ipykernel)",
   "language": "python",
   "name": "python3"
  },
  "language_info": {
   "codemirror_mode": {
    "name": "ipython",
    "version": 3
   },
   "file_extension": ".py",
   "mimetype": "text/x-python",
   "name": "python",
   "nbconvert_exporter": "python",
   "pygments_lexer": "ipython3",
   "version": "3.11.2"
  }
 },
 "nbformat": 4,
 "nbformat_minor": 5
}
