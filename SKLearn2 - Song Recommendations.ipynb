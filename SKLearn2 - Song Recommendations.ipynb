{
 "cells": [
  {
   "cell_type": "markdown",
   "id": "a64c1068",
   "metadata": {},
   "source": [
    "## Imports"
   ]
  },
  {
   "cell_type": "code",
   "execution_count": null,
   "id": "5564a42d",
   "metadata": {},
   "outputs": [],
   "source": [
    "import pandas as pd\n",
    "from sklearn.preprocessing import StandardScaler\n",
    "from sklearn.metrics.pairwise import euclidean_distances"
   ]
  },
  {
   "cell_type": "markdown",
   "id": "f73e26f4",
   "metadata": {},
   "source": [
    "## Dataframe Loading and Song Selection"
   ]
  },
  {
   "cell_type": "code",
   "execution_count": null,
   "id": "f4d3b51a",
   "metadata": {},
   "outputs": [],
   "source": [
    "# Load the dataframe\n",
    "df = pd.read_csv('data.csv')"
   ]
  },
  {
   "cell_type": "code",
   "execution_count": null,
   "id": "9653998e",
   "metadata": {},
   "outputs": [],
   "source": [
    "df.head()"
   ]
  },
  {
   "cell_type": "code",
   "execution_count": null,
   "id": "ac4b9fbb",
   "metadata": {},
   "outputs": [],
   "source": [
    "# Enter a song title\n",
    "song_title = input(\"Enter a song title to find similar songs: \")\n",
    "\n",
    "# Normalize the input for case and remove leading or trailing whitespace\n",
    "target_song_title = song_title.lower().strip()\n",
    "\n",
    "# Check if the target_song_title is in the dataset\n",
    "while target_song_title not in df['name'].str.lower().str.strip().values:\n",
    "    print(\"- - - - - \")\n",
    "    print(f\"Error: Song '{target_song_title}' not found in the dataset.\")\n",
    "    target_song_title = input(\"Enter a song title to find similar songs: \")\n",
    "    target_song_title = target_song_title.lower().strip()"
   ]
  },
  {
   "cell_type": "code",
   "execution_count": null,
   "id": "910a015d",
   "metadata": {},
   "outputs": [],
   "source": [
    "# Retrieve all artists for a particular song title and sort alphabetically\n",
    "available_artists = df.loc[df['name'].str.lower().str.strip() == target_song_title, 'artists'].unique()\n",
    "available_artists.sort(axis=0)\n",
    "print(\"Available artists:\")\n",
    "for i, artist in enumerate(available_artists):\n",
    "    print(f\"{i}. {artist}\")\n",
    "\n",
    "# Prompt user for artist input\n",
    "artist_choice = input(\"Select the artist (enter the corresponding number): \")\n",
    "\n",
    "# Error handling\n",
    "try:\n",
    "    artist_choice = int(artist_choice)\n",
    "except:\n",
    "    pass\n",
    "\n",
    "while type(artist_choice) != int or artist_choice < 0 or artist_choice >= len(available_artists):\n",
    "    print(\"- - - - - \")\n",
    "    print(\"Invalid choice. Please select a valid artist.\")\n",
    "    \n",
    "    for i, artist in enumerate(available_artists):\n",
    "        print(f\"{i}. {artist}\")\n",
    "    \n",
    "    artist_choice = input(\"Select the artist (enter the corresponding number): \")\n",
    "    \n",
    "    try:\n",
    "        artist_choice = int(artist_choice)\n",
    "    except:\n",
    "        pass\n",
    "\n",
    "# Assign artist choice to variable\n",
    "target_artist = available_artists[artist_choice]"
   ]
  },
  {
   "cell_type": "code",
   "execution_count": null,
   "id": "fc42aad2",
   "metadata": {},
   "outputs": [],
   "source": [
    "# # Retrieve all years for an artists for a particular song title and sort alphabetically\n",
    "available_years = df.loc[(df['name'].str.lower().str.strip() == target_song_title) & (df['artists'] == target_artist), 'year'].unique()\n",
    "available_years.sort(axis=0)\n",
    "\n",
    "print(f\"Available song years for {target_artist}:\")\n",
    "for i, year in enumerate(available_years):\n",
    "    print(f\"{i}. {year}\")\n",
    "\n",
    "# Prompt user for song year\n",
    "year_choice = input(\"Select the song year (enter the corresponding number): \")\n",
    "\n",
    "# Error handling\n",
    "try:\n",
    "    year_choice = int(year_choice)\n",
    "except:\n",
    "    pass\n",
    "\n",
    "while type(year_choice) != int or year_choice < 0 or year_choice >= len(available_years):\n",
    "    print(\"- - - - - \")\n",
    "    print(f\"Invalid choice. Please select a valid song year for {target_artist}.\")\n",
    "    for i, year in enumerate(available_years):\n",
    "        print(f\"{i}. {year}\")\n",
    "    year_choice = input(\"Select the song year (enter the corresponding number): \")\n",
    "\n",
    "    try:\n",
    "        year_choice = int(year_choice)\n",
    "    except:\n",
    "        pass\n",
    "\n",
    "# Assign year choice to variable\n",
    "target_year = available_years[year_choice]"
   ]
  },
  {
   "cell_type": "code",
   "execution_count": null,
   "id": "15918281",
   "metadata": {},
   "outputs": [],
   "source": [
    "# Retrieve the target song based on name, artist, and year\n",
    "target_song = df[(df['name'].str.lower().str.strip() == target_song_title) & (df['artists'] == target_artist) & (df['year'] == target_year)]"
   ]
  },
  {
   "cell_type": "code",
   "execution_count": null,
   "id": "34f01738",
   "metadata": {},
   "outputs": [],
   "source": [
    "target_song"
   ]
  },
  {
   "cell_type": "code",
   "execution_count": null,
   "id": "617d9fd5",
   "metadata": {},
   "outputs": [],
   "source": [
    "# Retrieve index for selected song\n",
    "target_song_index = target_song.index\n",
    "target_song_index"
   ]
  },
  {
   "cell_type": "markdown",
   "id": "c0d11e76",
   "metadata": {},
   "source": [
    "## Preprocessing"
   ]
  },
  {
   "cell_type": "code",
   "execution_count": null,
   "id": "ae496113",
   "metadata": {},
   "outputs": [],
   "source": [
    "# Index dataframe by song names and drop unnecessary columns\n",
    "df = df.set_index('name')\n",
    "df = df.drop(columns=['artists', 'id', 'release_date'])\n",
    "\n",
    "# Preprocess all other features and create scaled dataframe\n",
    "scaler = StandardScaler()\n",
    "df_scaled = pd.DataFrame(scaler.fit_transform(df), index=df.index, columns=df.columns)\n",
    "\n",
    "df_scaled.head()"
   ]
  },
  {
   "cell_type": "code",
   "execution_count": null,
   "id": "5ffacd09",
   "metadata": {},
   "outputs": [],
   "source": [
    "# Retrieve specific song features via index\n",
    "target_song = df_scaled.iloc[target_song_index]\n",
    "target_song"
   ]
  },
  {
   "cell_type": "markdown",
   "id": "51f60e58",
   "metadata": {},
   "source": [
    "## Calculate Euclidean Distances"
   ]
  },
  {
   "cell_type": "code",
   "execution_count": null,
   "id": "0eb02896",
   "metadata": {},
   "outputs": [],
   "source": [
    "# Calculate euclidean distances between the target song and all other songs\n",
    "distances = euclidean_distances(target_song, df_scaled)"
   ]
  },
  {
   "cell_type": "code",
   "execution_count": null,
   "id": "ae44ea6b",
   "metadata": {},
   "outputs": [],
   "source": [
    "distances"
   ]
  },
  {
   "cell_type": "code",
   "execution_count": null,
   "id": "fb38041a",
   "metadata": {},
   "outputs": [],
   "source": [
    "len(distances)"
   ]
  },
  {
   "cell_type": "code",
   "execution_count": null,
   "id": "13c17904",
   "metadata": {},
   "outputs": [],
   "source": [
    "# Insert calculated distances from target song into original dataframe at column position 0\n",
    "df_distance_col = distances[0]\n",
    "df.insert(0, 'distance', df_distance_col)\n",
    "df"
   ]
  },
  {
   "cell_type": "markdown",
   "id": "35234451",
   "metadata": {},
   "source": [
    "## Sort Dataframe by Distance to Selected Song"
   ]
  },
  {
   "cell_type": "code",
   "execution_count": null,
   "id": "afaf02f6",
   "metadata": {},
   "outputs": [],
   "source": [
    "# Sort the dataframe by distance\n",
    "df_sorted = df.sort_values(by='distance')\n",
    "\n",
    "df_sorted.head()"
   ]
  },
  {
   "cell_type": "code",
   "execution_count": null,
   "id": "493b18c3",
   "metadata": {},
   "outputs": [],
   "source": [
    "df_sorted.describe()"
   ]
  },
  {
   "cell_type": "code",
   "execution_count": null,
   "id": "a312f06f",
   "metadata": {
    "scrolled": true
   },
   "outputs": [],
   "source": [
    "# Display the top n most similar songs based on minimal distance to selected song\n",
    "n = 5\n",
    "df_sorted.head(n+1)"
   ]
  },
  {
   "cell_type": "code",
   "execution_count": null,
   "id": "b45044b0",
   "metadata": {},
   "outputs": [],
   "source": [
    "recommended_songs = df_sorted.head(n+1)  # Extract the top n+1 songs (including the target song)\n",
    "attributes = ['distance', 'valence','acousticness','danceability','duration_ms','energy','explicit', 'instrumentalness', 'key', 'liveness', 'loudness', 'mode', 'popularity', 'speechiness','tempo']\n",
    "recommended_attributes = recommended_songs[attributes]  #Took out the year released\n"
   ]
  },
  {
   "cell_type": "code",
   "execution_count": null,
   "id": "d3b0c3e5",
   "metadata": {},
   "outputs": [],
   "source": [
    "scaler = StandardScaler()\n",
    "recommended_attributes_scaled = pd.DataFrame(scaler.fit_transform(recommended_attributes), columns=attributes)\n"
   ]
  },
  {
   "cell_type": "code",
   "execution_count": null,
   "id": "3c55a84f",
   "metadata": {},
   "outputs": [],
   "source": [
    "import numpy as np\n",
    "import matplotlib.pyplot as plt\n",
    "# Radar Charts\n",
    "\n",
    "# Define the number of songs and attributes\n",
    "num_songs = len(recommended_songs)\n",
    "num_attributes = len(attributes)\n",
    "\n",
    "# Calculate the number of rows and columns for the subplot grid\n",
    "rows = 2\n",
    "columns = int(np.ceil(num_songs / rows))\n",
    "\n",
    "fig, axes = plt.subplots(rows, columns, figsize=(12, 8), subplot_kw={'projection': 'polar'})\n",
    "\n",
    "track_name = recommended_songs.index.values.tolist()\n",
    "\n",
    "# Loop for different chart per song recommended \n",
    "for i, (song_label, attribute_values) in enumerate(zip(track_name, recommended_attributes_scaled.values)):\n",
    "    # Calculate the row and column index for the current subplot\n",
    "    row_idx = i // columns\n",
    "    col_idx = i % columns\n",
    "\n",
    "    # Get the corresponding axis for the current subplot\n",
    "    if num_songs > 1:\n",
    "        ax = axes[row_idx, col_idx]\n",
    "    else:\n",
    "        ax = axes\n",
    "\n",
    "    # Compute angle for each attribute\n",
    "    angles = np.linspace(0, 2 * np.pi, num_attributes, endpoint=False).tolist()\n",
    "\n",
    "    # Close the plot by repeating the first angle\n",
    "    angles += angles[:1]\n",
    "\n",
    "    # Close the attribute values by repeating the first value\n",
    "    attribute_values = np.concatenate((attribute_values, [attribute_values[0]]))\n",
    "\n",
    "    # Plot the song's attribute values as a line\n",
    "    ax.plot(angles, attribute_values, linewidth=1, linestyle='solid', label=song_label)\n",
    "\n",
    "    # Fill the area under the line with a color\n",
    "    ax.fill(angles, attribute_values, 'b', alpha=0.1)\n",
    "\n",
    "    # Set the labels for each attribute and rotate them for better readability\n",
    "    ax.set_xticks(angles[:-1])\n",
    "    ax.set_xticklabels(attributes, fontsize=8)\n",
    "\n",
    "    #title\n",
    "    ax.set_title(f'\"{song_label}\"')\n",
    "   \n",
    "    \n",
    "#make it more spacious\n",
    "fig.tight_layout()\n",
    "\n",
    "plt.savefig(\"radar-maps\")\n"
   ]
  },
  {
   "cell_type": "code",
   "execution_count": null,
   "id": "3a65e092",
   "metadata": {},
   "outputs": [],
   "source": []
  }
 ],
 "metadata": {
  "kernelspec": {
   "display_name": "Python 3 (ipykernel)",
   "language": "python",
   "name": "python3"
  },
  "language_info": {
   "codemirror_mode": {
    "name": "ipython",
    "version": 3
   },
   "file_extension": ".py",
   "mimetype": "text/x-python",
   "name": "python",
   "nbconvert_exporter": "python",
   "pygments_lexer": "ipython3",
   "version": "3.9.13"
  }
 },
 "nbformat": 4,
 "nbformat_minor": 5
}
