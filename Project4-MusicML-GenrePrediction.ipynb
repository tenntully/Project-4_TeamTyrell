{
 "cells": [
  {
   "cell_type": "code",
   "execution_count": 1,
   "id": "41c5b65d",
   "metadata": {},
   "outputs": [],
   "source": [
    "# Import the modules\n",
    "import numpy as np\n",
    "import pandas as pd\n",
    "from pathlib import Path\n",
    "from sklearn.metrics import balanced_accuracy_score, confusion_matrix, classification_report\n"
   ]
  },
  {
   "cell_type": "code",
   "execution_count": 2,
   "id": "06bc2fd3",
   "metadata": {},
   "outputs": [
    {
     "data": {
      "text/html": [
       "<div>\n",
       "<style scoped>\n",
       "    .dataframe tbody tr th:only-of-type {\n",
       "        vertical-align: middle;\n",
       "    }\n",
       "\n",
       "    .dataframe tbody tr th {\n",
       "        vertical-align: top;\n",
       "    }\n",
       "\n",
       "    .dataframe thead th {\n",
       "        text-align: right;\n",
       "    }\n",
       "</style>\n",
       "<table border=\"1\" class=\"dataframe\">\n",
       "  <thead>\n",
       "    <tr style=\"text-align: right;\">\n",
       "      <th></th>\n",
       "      <th>Artist Name</th>\n",
       "      <th>Track Name</th>\n",
       "      <th>Popularity</th>\n",
       "      <th>danceability</th>\n",
       "      <th>energy</th>\n",
       "      <th>key</th>\n",
       "      <th>loudness</th>\n",
       "      <th>mode</th>\n",
       "      <th>speechiness</th>\n",
       "      <th>acousticness</th>\n",
       "      <th>instrumentalness</th>\n",
       "      <th>liveness</th>\n",
       "      <th>valence</th>\n",
       "      <th>tempo</th>\n",
       "      <th>duration_in min/ms</th>\n",
       "      <th>time_signature</th>\n",
       "      <th>Class</th>\n",
       "    </tr>\n",
       "  </thead>\n",
       "  <tbody>\n",
       "    <tr>\n",
       "      <th>0</th>\n",
       "      <td>Bruno Mars</td>\n",
       "      <td>That's What I Like (feat. Gucci Mane)</td>\n",
       "      <td>60.0</td>\n",
       "      <td>0.854</td>\n",
       "      <td>0.564</td>\n",
       "      <td>1.0</td>\n",
       "      <td>-4.964</td>\n",
       "      <td>1</td>\n",
       "      <td>0.0485</td>\n",
       "      <td>0.017100</td>\n",
       "      <td>NaN</td>\n",
       "      <td>0.0849</td>\n",
       "      <td>0.8990</td>\n",
       "      <td>134.071</td>\n",
       "      <td>234596.0</td>\n",
       "      <td>4</td>\n",
       "      <td>5</td>\n",
       "    </tr>\n",
       "    <tr>\n",
       "      <th>1</th>\n",
       "      <td>Boston</td>\n",
       "      <td>Hitch a Ride</td>\n",
       "      <td>54.0</td>\n",
       "      <td>0.382</td>\n",
       "      <td>0.814</td>\n",
       "      <td>3.0</td>\n",
       "      <td>-7.230</td>\n",
       "      <td>1</td>\n",
       "      <td>0.0406</td>\n",
       "      <td>0.001100</td>\n",
       "      <td>0.004010</td>\n",
       "      <td>0.1010</td>\n",
       "      <td>0.5690</td>\n",
       "      <td>116.454</td>\n",
       "      <td>251733.0</td>\n",
       "      <td>4</td>\n",
       "      <td>10</td>\n",
       "    </tr>\n",
       "    <tr>\n",
       "      <th>2</th>\n",
       "      <td>The Raincoats</td>\n",
       "      <td>No Side to Fall In</td>\n",
       "      <td>35.0</td>\n",
       "      <td>0.434</td>\n",
       "      <td>0.614</td>\n",
       "      <td>6.0</td>\n",
       "      <td>-8.334</td>\n",
       "      <td>1</td>\n",
       "      <td>0.0525</td>\n",
       "      <td>0.486000</td>\n",
       "      <td>0.000196</td>\n",
       "      <td>0.3940</td>\n",
       "      <td>0.7870</td>\n",
       "      <td>147.681</td>\n",
       "      <td>109667.0</td>\n",
       "      <td>4</td>\n",
       "      <td>6</td>\n",
       "    </tr>\n",
       "    <tr>\n",
       "      <th>3</th>\n",
       "      <td>Deno</td>\n",
       "      <td>Lingo (feat. J.I &amp; Chunkz)</td>\n",
       "      <td>66.0</td>\n",
       "      <td>0.853</td>\n",
       "      <td>0.597</td>\n",
       "      <td>10.0</td>\n",
       "      <td>-6.528</td>\n",
       "      <td>0</td>\n",
       "      <td>0.0555</td>\n",
       "      <td>0.021200</td>\n",
       "      <td>NaN</td>\n",
       "      <td>0.1220</td>\n",
       "      <td>0.5690</td>\n",
       "      <td>107.033</td>\n",
       "      <td>173968.0</td>\n",
       "      <td>4</td>\n",
       "      <td>5</td>\n",
       "    </tr>\n",
       "    <tr>\n",
       "      <th>4</th>\n",
       "      <td>Red Hot Chili Peppers</td>\n",
       "      <td>Nobody Weird Like Me - Remastered</td>\n",
       "      <td>53.0</td>\n",
       "      <td>0.167</td>\n",
       "      <td>0.975</td>\n",
       "      <td>2.0</td>\n",
       "      <td>-4.279</td>\n",
       "      <td>1</td>\n",
       "      <td>0.2160</td>\n",
       "      <td>0.000169</td>\n",
       "      <td>0.016100</td>\n",
       "      <td>0.1720</td>\n",
       "      <td>0.0918</td>\n",
       "      <td>199.060</td>\n",
       "      <td>229960.0</td>\n",
       "      <td>4</td>\n",
       "      <td>10</td>\n",
       "    </tr>\n",
       "    <tr>\n",
       "      <th>...</th>\n",
       "      <td>...</td>\n",
       "      <td>...</td>\n",
       "      <td>...</td>\n",
       "      <td>...</td>\n",
       "      <td>...</td>\n",
       "      <td>...</td>\n",
       "      <td>...</td>\n",
       "      <td>...</td>\n",
       "      <td>...</td>\n",
       "      <td>...</td>\n",
       "      <td>...</td>\n",
       "      <td>...</td>\n",
       "      <td>...</td>\n",
       "      <td>...</td>\n",
       "      <td>...</td>\n",
       "      <td>...</td>\n",
       "      <td>...</td>\n",
       "    </tr>\n",
       "    <tr>\n",
       "      <th>17991</th>\n",
       "      <td>Green-House</td>\n",
       "      <td>Find Home</td>\n",
       "      <td>35.0</td>\n",
       "      <td>0.166</td>\n",
       "      <td>0.109</td>\n",
       "      <td>7.0</td>\n",
       "      <td>-17.100</td>\n",
       "      <td>0</td>\n",
       "      <td>0.0413</td>\n",
       "      <td>0.993000</td>\n",
       "      <td>0.824000</td>\n",
       "      <td>0.0984</td>\n",
       "      <td>0.1770</td>\n",
       "      <td>171.587</td>\n",
       "      <td>193450.0</td>\n",
       "      <td>3</td>\n",
       "      <td>6</td>\n",
       "    </tr>\n",
       "    <tr>\n",
       "      <th>17992</th>\n",
       "      <td>Micatone</td>\n",
       "      <td>All Gone</td>\n",
       "      <td>27.0</td>\n",
       "      <td>0.638</td>\n",
       "      <td>0.223</td>\n",
       "      <td>11.0</td>\n",
       "      <td>-10.174</td>\n",
       "      <td>0</td>\n",
       "      <td>0.0329</td>\n",
       "      <td>0.858000</td>\n",
       "      <td>0.000016</td>\n",
       "      <td>0.0705</td>\n",
       "      <td>0.3350</td>\n",
       "      <td>73.016</td>\n",
       "      <td>257067.0</td>\n",
       "      <td>4</td>\n",
       "      <td>2</td>\n",
       "    </tr>\n",
       "    <tr>\n",
       "      <th>17993</th>\n",
       "      <td>Smash Hit Combo</td>\n",
       "      <td>Peine perdue</td>\n",
       "      <td>34.0</td>\n",
       "      <td>0.558</td>\n",
       "      <td>0.981</td>\n",
       "      <td>4.0</td>\n",
       "      <td>-4.683</td>\n",
       "      <td>0</td>\n",
       "      <td>0.0712</td>\n",
       "      <td>0.000030</td>\n",
       "      <td>0.000136</td>\n",
       "      <td>0.6660</td>\n",
       "      <td>0.2620</td>\n",
       "      <td>105.000</td>\n",
       "      <td>216222.0</td>\n",
       "      <td>4</td>\n",
       "      <td>8</td>\n",
       "    </tr>\n",
       "    <tr>\n",
       "      <th>17994</th>\n",
       "      <td>Beherit</td>\n",
       "      <td>Salomon's Gate</td>\n",
       "      <td>29.0</td>\n",
       "      <td>0.215</td>\n",
       "      <td>0.805</td>\n",
       "      <td>6.0</td>\n",
       "      <td>-12.757</td>\n",
       "      <td>0</td>\n",
       "      <td>0.1340</td>\n",
       "      <td>0.001290</td>\n",
       "      <td>0.916000</td>\n",
       "      <td>0.2560</td>\n",
       "      <td>0.3550</td>\n",
       "      <td>131.363</td>\n",
       "      <td>219693.0</td>\n",
       "      <td>4</td>\n",
       "      <td>8</td>\n",
       "    </tr>\n",
       "    <tr>\n",
       "      <th>17995</th>\n",
       "      <td>The Raconteurs</td>\n",
       "      <td>Broken Boy Soldier</td>\n",
       "      <td>43.0</td>\n",
       "      <td>0.400</td>\n",
       "      <td>0.853</td>\n",
       "      <td>4.0</td>\n",
       "      <td>-5.320</td>\n",
       "      <td>0</td>\n",
       "      <td>0.0591</td>\n",
       "      <td>0.006040</td>\n",
       "      <td>0.212000</td>\n",
       "      <td>0.3340</td>\n",
       "      <td>0.3770</td>\n",
       "      <td>138.102</td>\n",
       "      <td>182227.0</td>\n",
       "      <td>4</td>\n",
       "      <td>10</td>\n",
       "    </tr>\n",
       "  </tbody>\n",
       "</table>\n",
       "<p>17996 rows × 17 columns</p>\n",
       "</div>"
      ],
      "text/plain": [
       "                 Artist Name                             Track Name  \\\n",
       "0                 Bruno Mars  That's What I Like (feat. Gucci Mane)   \n",
       "1                     Boston                           Hitch a Ride   \n",
       "2              The Raincoats                     No Side to Fall In   \n",
       "3                       Deno             Lingo (feat. J.I & Chunkz)   \n",
       "4      Red Hot Chili Peppers      Nobody Weird Like Me - Remastered   \n",
       "...                      ...                                    ...   \n",
       "17991            Green-House                              Find Home   \n",
       "17992               Micatone                               All Gone   \n",
       "17993        Smash Hit Combo                           Peine perdue   \n",
       "17994                Beherit                         Salomon's Gate   \n",
       "17995         The Raconteurs                     Broken Boy Soldier   \n",
       "\n",
       "       Popularity  danceability  energy   key  loudness  mode  speechiness  \\\n",
       "0            60.0         0.854   0.564   1.0    -4.964     1       0.0485   \n",
       "1            54.0         0.382   0.814   3.0    -7.230     1       0.0406   \n",
       "2            35.0         0.434   0.614   6.0    -8.334     1       0.0525   \n",
       "3            66.0         0.853   0.597  10.0    -6.528     0       0.0555   \n",
       "4            53.0         0.167   0.975   2.0    -4.279     1       0.2160   \n",
       "...           ...           ...     ...   ...       ...   ...          ...   \n",
       "17991        35.0         0.166   0.109   7.0   -17.100     0       0.0413   \n",
       "17992        27.0         0.638   0.223  11.0   -10.174     0       0.0329   \n",
       "17993        34.0         0.558   0.981   4.0    -4.683     0       0.0712   \n",
       "17994        29.0         0.215   0.805   6.0   -12.757     0       0.1340   \n",
       "17995        43.0         0.400   0.853   4.0    -5.320     0       0.0591   \n",
       "\n",
       "       acousticness  instrumentalness  liveness  valence    tempo  \\\n",
       "0          0.017100               NaN    0.0849   0.8990  134.071   \n",
       "1          0.001100          0.004010    0.1010   0.5690  116.454   \n",
       "2          0.486000          0.000196    0.3940   0.7870  147.681   \n",
       "3          0.021200               NaN    0.1220   0.5690  107.033   \n",
       "4          0.000169          0.016100    0.1720   0.0918  199.060   \n",
       "...             ...               ...       ...      ...      ...   \n",
       "17991      0.993000          0.824000    0.0984   0.1770  171.587   \n",
       "17992      0.858000          0.000016    0.0705   0.3350   73.016   \n",
       "17993      0.000030          0.000136    0.6660   0.2620  105.000   \n",
       "17994      0.001290          0.916000    0.2560   0.3550  131.363   \n",
       "17995      0.006040          0.212000    0.3340   0.3770  138.102   \n",
       "\n",
       "       duration_in min/ms  time_signature  Class  \n",
       "0                234596.0               4      5  \n",
       "1                251733.0               4     10  \n",
       "2                109667.0               4      6  \n",
       "3                173968.0               4      5  \n",
       "4                229960.0               4     10  \n",
       "...                   ...             ...    ...  \n",
       "17991            193450.0               3      6  \n",
       "17992            257067.0               4      2  \n",
       "17993            216222.0               4      8  \n",
       "17994            219693.0               4      8  \n",
       "17995            182227.0               4     10  \n",
       "\n",
       "[17996 rows x 17 columns]"
      ]
     },
     "execution_count": 2,
     "metadata": {},
     "output_type": "execute_result"
    }
   ],
   "source": [
    "# Read the CSV file from the Resources folder into a Pandas DataFrame\n",
    "musicData = pd.read_csv(\"Resources/music.csv\")\n",
    "\n",
    "# Review the DataFrame\n",
    "musicData.head(20)\n",
    "\n",
    "#define the genreIndex\n",
    "genreIndex=['Acoustic/Folk_0',\n",
    "           'Alt_Music_1', \n",
    "           'Blues_2',\n",
    "           'Bollywood_3',\n",
    "           'Country_4',\n",
    "           'HipHop_5',\n",
    "           'Indie Alt_6',\n",
    "           'Instrumental_7',\n",
    "           'Metal_8',\n",
    "           'Pop_9',\n",
    "           'Rock_10']\n",
    "\n",
    "musicData"
   ]
  },
  {
   "cell_type": "code",
   "execution_count": 3,
   "id": "80c75c87",
   "metadata": {},
   "outputs": [],
   "source": [
    "# Drop non-contributing ID columns\n",
    "musicDF = musicData.drop(columns=['Artist Name', 'Track Name'])\n",
    "\n",
    "\n",
    "# Optional: Change Artist Name and Track Name to string\n",
    "#cat_col = ['Artist Name','Track Name']\n",
    "\n",
    "#for i in cat_col:\n",
    "#    data[i] = data[i].astype('str') \n",
    "\n",
    "\n",
    "# musicDF"
   ]
  },
  {
   "cell_type": "code",
   "execution_count": 4,
   "id": "35e31358",
   "metadata": {},
   "outputs": [],
   "source": [
    "# Count the number of NaN values in each column\n",
    "nan_counts = musicDF.isna().sum()\n",
    "# nan_counts"
   ]
  },
  {
   "cell_type": "code",
   "execution_count": 5,
   "id": "b5636655",
   "metadata": {},
   "outputs": [],
   "source": [
    "# Count the number of rows with at least one NaN value\n",
    "rows_with_nan = musicDF.isna().any(axis=1).sum()\n",
    "# rows_with_nan"
   ]
  },
  {
   "cell_type": "code",
   "execution_count": 6,
   "id": "57a46fb5",
   "metadata": {},
   "outputs": [],
   "source": [
    "# Option1: Drop instrumentalness for now since there are many NaN's- try to figure out how to populate NaN's later?  \n",
    "# musicDF = musicDF.drop(columns=['Popularity', 'key', 'instrumentalness'])"
   ]
  },
  {
   "cell_type": "code",
   "execution_count": 7,
   "id": "0e2494ad",
   "metadata": {},
   "outputs": [],
   "source": [
    "# musicDF.shape"
   ]
  },
  {
   "cell_type": "code",
   "execution_count": 8,
   "id": "2cd79abc",
   "metadata": {},
   "outputs": [],
   "source": [
    "# Option2: drop samples with NaN values\n",
    "#musicDF = musicDF.dropna()"
   ]
  },
  {
   "cell_type": "code",
   "execution_count": 9,
   "id": "498ab3fb",
   "metadata": {},
   "outputs": [],
   "source": [
    "# Option3: imput missing with zero\n",
    "musicDF = musicDF.fillna(0)"
   ]
  },
  {
   "cell_type": "code",
   "execution_count": 10,
   "id": "5cc5ce15",
   "metadata": {},
   "outputs": [],
   "source": [
    "# musicDF.shape"
   ]
  },
  {
   "cell_type": "markdown",
   "id": "8d767c8f",
   "metadata": {},
   "source": [
    "### Split Data Into Features and our Label (genre)"
   ]
  },
  {
   "cell_type": "code",
   "execution_count": 11,
   "id": "fb9ed4be",
   "metadata": {},
   "outputs": [],
   "source": [
    "# Separate the data into labels (Class = genre) and features/attributes\n",
    "\n",
    "# Separate the y variable, the labels\n",
    "y = musicDF[\"Class\"].values\n",
    "\n",
    "\n",
    "# Separate the X variable, the features\n",
    "X = musicDF.drop(\"Class\", axis=1).values"
   ]
  },
  {
   "cell_type": "code",
   "execution_count": 12,
   "id": "a97357b4",
   "metadata": {},
   "outputs": [],
   "source": [
    "# Import the train_test_learn module\n",
    "from sklearn.model_selection import train_test_split\n",
    "\n",
    "# Split the data using train_test_split\n",
    "# Assign a random_state of 1 to the function\n",
    "X_train, X_test, y_train, y_test = train_test_split(X, y, random_state=1, stratify=y)"
   ]
  },
  {
   "cell_type": "markdown",
   "id": "a8a132b9",
   "metadata": {},
   "source": [
    "#### Scale Data"
   ]
  },
  {
   "cell_type": "code",
   "execution_count": 13,
   "id": "0f15dd0d",
   "metadata": {},
   "outputs": [],
   "source": [
    "# import the StandardScaler and scale the data\n",
    "from sklearn.preprocessing import StandardScaler\n",
    "\n",
    "# make the instance of the standard scaler\n",
    "scaler = StandardScaler()\n",
    "\n",
    "# fit the scaler onto the data\n",
    "X_scaler = scaler.fit(X_train)\n",
    "\n",
    "# scale the x train and test using .transform function\n",
    "xTrainScaled = X_scaler.transform(X_train)\n",
    "xTestScaled = X_scaler.transform(X_test)"
   ]
  },
  {
   "cell_type": "markdown",
   "id": "b33668b5",
   "metadata": {},
   "source": [
    "### First Try Random Forest Classifier to Create Model"
   ]
  },
  {
   "cell_type": "code",
   "execution_count": 14,
   "id": "02920408",
   "metadata": {},
   "outputs": [],
   "source": [
    "# import the RandomForestClassifier from sklearn.ensemble\n",
    "from sklearn.ensemble import RandomForestClassifier\n",
    "\n",
    "# create the random forest classifier model\n",
    "rfModel = RandomForestClassifier(n_estimators=500, random_state=78)\n",
    "\n",
    "# fit the model onto our scaled X training data and the trained y data\n",
    "rfModel = rfModel.fit(xTrainScaled, y_train)"
   ]
  },
  {
   "cell_type": "code",
   "execution_count": 15,
   "id": "fc63ea43",
   "metadata": {},
   "outputs": [],
   "source": [
    "# make the predictions using the testing data\n",
    "predictedValues = rfModel.predict(xTestScaled)"
   ]
  },
  {
   "cell_type": "markdown",
   "id": "eb2a9b55",
   "metadata": {},
   "source": [
    "#### Determine Accuracy"
   ]
  },
  {
   "cell_type": "code",
   "execution_count": 16,
   "id": "a21a4b56",
   "metadata": {},
   "outputs": [],
   "source": [
    "# import the modules for the confusion matrix, accuracy score, and classification report\n",
    "from sklearn.metrics import confusion_matrix, accuracy_score, classification_report"
   ]
  },
  {
   "cell_type": "code",
   "execution_count": 17,
   "id": "fd503980",
   "metadata": {},
   "outputs": [
    {
     "name": "stdout",
     "output_type": "stream",
     "text": [
      "Random Forest Classifier Accuracy Score: 51.26%\n"
     ]
    }
   ],
   "source": [
    "# calculate the accuracy score\n",
    "accuracyScore = accuracy_score(y_test, predictedValues)\n",
    "print(f\"Random Forest Classifier Accuracy Score: {(accuracyScore*100):.2f}%\")"
   ]
  },
  {
   "cell_type": "code",
   "execution_count": 18,
   "id": "e54892c2",
   "metadata": {},
   "outputs": [
    {
     "data": {
      "text/html": [
       "<div>\n",
       "<style scoped>\n",
       "    .dataframe tbody tr th:only-of-type {\n",
       "        vertical-align: middle;\n",
       "    }\n",
       "\n",
       "    .dataframe tbody tr th {\n",
       "        vertical-align: top;\n",
       "    }\n",
       "\n",
       "    .dataframe thead th {\n",
       "        text-align: right;\n",
       "    }\n",
       "</style>\n",
       "<table border=\"1\" class=\"dataframe\">\n",
       "  <thead>\n",
       "    <tr style=\"text-align: right;\">\n",
       "      <th></th>\n",
       "      <th>Acoustic/Folk_0</th>\n",
       "      <th>Alt_Music_1</th>\n",
       "      <th>Blues_2</th>\n",
       "      <th>Bollywood_3</th>\n",
       "      <th>Country_4</th>\n",
       "      <th>HipHop_5</th>\n",
       "      <th>Indie Alt_6</th>\n",
       "      <th>Instrumental_7</th>\n",
       "      <th>Metal_8</th>\n",
       "      <th>Pop_9</th>\n",
       "      <th>Rock_10</th>\n",
       "    </tr>\n",
       "  </thead>\n",
       "  <tbody>\n",
       "    <tr>\n",
       "      <th>Acoustic/Folk_0</th>\n",
       "      <td>128</td>\n",
       "      <td>0</td>\n",
       "      <td>0</td>\n",
       "      <td>8</td>\n",
       "      <td>11</td>\n",
       "      <td>0</td>\n",
       "      <td>0</td>\n",
       "      <td>0</td>\n",
       "      <td>0</td>\n",
       "      <td>7</td>\n",
       "      <td>2</td>\n",
       "    </tr>\n",
       "    <tr>\n",
       "      <th>Alt_Music_1</th>\n",
       "      <td>0</td>\n",
       "      <td>5</td>\n",
       "      <td>11</td>\n",
       "      <td>0</td>\n",
       "      <td>0</td>\n",
       "      <td>10</td>\n",
       "      <td>114</td>\n",
       "      <td>0</td>\n",
       "      <td>8</td>\n",
       "      <td>33</td>\n",
       "      <td>162</td>\n",
       "    </tr>\n",
       "    <tr>\n",
       "      <th>Blues_2</th>\n",
       "      <td>0</td>\n",
       "      <td>0</td>\n",
       "      <td>94</td>\n",
       "      <td>0</td>\n",
       "      <td>0</td>\n",
       "      <td>4</td>\n",
       "      <td>40</td>\n",
       "      <td>0</td>\n",
       "      <td>3</td>\n",
       "      <td>25</td>\n",
       "      <td>152</td>\n",
       "    </tr>\n",
       "    <tr>\n",
       "      <th>Bollywood_3</th>\n",
       "      <td>21</td>\n",
       "      <td>0</td>\n",
       "      <td>0</td>\n",
       "      <td>70</td>\n",
       "      <td>6</td>\n",
       "      <td>0</td>\n",
       "      <td>0</td>\n",
       "      <td>3</td>\n",
       "      <td>0</td>\n",
       "      <td>0</td>\n",
       "      <td>0</td>\n",
       "    </tr>\n",
       "    <tr>\n",
       "      <th>Country_4</th>\n",
       "      <td>15</td>\n",
       "      <td>0</td>\n",
       "      <td>0</td>\n",
       "      <td>1</td>\n",
       "      <td>69</td>\n",
       "      <td>0</td>\n",
       "      <td>0</td>\n",
       "      <td>0</td>\n",
       "      <td>0</td>\n",
       "      <td>10</td>\n",
       "      <td>2</td>\n",
       "    </tr>\n",
       "    <tr>\n",
       "      <th>HipHop_5</th>\n",
       "      <td>0</td>\n",
       "      <td>1</td>\n",
       "      <td>2</td>\n",
       "      <td>0</td>\n",
       "      <td>0</td>\n",
       "      <td>257</td>\n",
       "      <td>23</td>\n",
       "      <td>0</td>\n",
       "      <td>0</td>\n",
       "      <td>58</td>\n",
       "      <td>21</td>\n",
       "    </tr>\n",
       "    <tr>\n",
       "      <th>Indie Alt_6</th>\n",
       "      <td>0</td>\n",
       "      <td>86</td>\n",
       "      <td>29</td>\n",
       "      <td>0</td>\n",
       "      <td>0</td>\n",
       "      <td>24</td>\n",
       "      <td>183</td>\n",
       "      <td>0</td>\n",
       "      <td>16</td>\n",
       "      <td>69</td>\n",
       "      <td>240</td>\n",
       "    </tr>\n",
       "    <tr>\n",
       "      <th>Instrumental_7</th>\n",
       "      <td>6</td>\n",
       "      <td>0</td>\n",
       "      <td>0</td>\n",
       "      <td>1</td>\n",
       "      <td>0</td>\n",
       "      <td>0</td>\n",
       "      <td>0</td>\n",
       "      <td>137</td>\n",
       "      <td>0</td>\n",
       "      <td>0</td>\n",
       "      <td>0</td>\n",
       "    </tr>\n",
       "    <tr>\n",
       "      <th>Metal_8</th>\n",
       "      <td>0</td>\n",
       "      <td>0</td>\n",
       "      <td>1</td>\n",
       "      <td>0</td>\n",
       "      <td>0</td>\n",
       "      <td>0</td>\n",
       "      <td>12</td>\n",
       "      <td>0</td>\n",
       "      <td>251</td>\n",
       "      <td>0</td>\n",
       "      <td>200</td>\n",
       "    </tr>\n",
       "    <tr>\n",
       "      <th>Pop_9</th>\n",
       "      <td>14</td>\n",
       "      <td>5</td>\n",
       "      <td>11</td>\n",
       "      <td>1</td>\n",
       "      <td>2</td>\n",
       "      <td>54</td>\n",
       "      <td>66</td>\n",
       "      <td>1</td>\n",
       "      <td>0</td>\n",
       "      <td>331</td>\n",
       "      <td>146</td>\n",
       "    </tr>\n",
       "    <tr>\n",
       "      <th>Rock_10</th>\n",
       "      <td>6</td>\n",
       "      <td>42</td>\n",
       "      <td>55</td>\n",
       "      <td>4</td>\n",
       "      <td>14</td>\n",
       "      <td>11</td>\n",
       "      <td>108</td>\n",
       "      <td>0</td>\n",
       "      <td>115</td>\n",
       "      <td>101</td>\n",
       "      <td>781</td>\n",
       "    </tr>\n",
       "  </tbody>\n",
       "</table>\n",
       "</div>"
      ],
      "text/plain": [
       "                 Acoustic/Folk_0  Alt_Music_1  Blues_2  Bollywood_3  \\\n",
       "Acoustic/Folk_0              128            0        0            8   \n",
       "Alt_Music_1                    0            5       11            0   \n",
       "Blues_2                        0            0       94            0   \n",
       "Bollywood_3                   21            0        0           70   \n",
       "Country_4                     15            0        0            1   \n",
       "HipHop_5                       0            1        2            0   \n",
       "Indie Alt_6                    0           86       29            0   \n",
       "Instrumental_7                 6            0        0            1   \n",
       "Metal_8                        0            0        1            0   \n",
       "Pop_9                         14            5       11            1   \n",
       "Rock_10                        6           42       55            4   \n",
       "\n",
       "                 Country_4  HipHop_5  Indie Alt_6  Instrumental_7  Metal_8  \\\n",
       "Acoustic/Folk_0         11         0            0               0        0   \n",
       "Alt_Music_1              0        10          114               0        8   \n",
       "Blues_2                  0         4           40               0        3   \n",
       "Bollywood_3              6         0            0               3        0   \n",
       "Country_4               69         0            0               0        0   \n",
       "HipHop_5                 0       257           23               0        0   \n",
       "Indie Alt_6              0        24          183               0       16   \n",
       "Instrumental_7           0         0            0             137        0   \n",
       "Metal_8                  0         0           12               0      251   \n",
       "Pop_9                    2        54           66               1        0   \n",
       "Rock_10                 14        11          108               0      115   \n",
       "\n",
       "                 Pop_9  Rock_10  \n",
       "Acoustic/Folk_0      7        2  \n",
       "Alt_Music_1         33      162  \n",
       "Blues_2             25      152  \n",
       "Bollywood_3          0        0  \n",
       "Country_4           10        2  \n",
       "HipHop_5            58       21  \n",
       "Indie Alt_6         69      240  \n",
       "Instrumental_7       0        0  \n",
       "Metal_8              0      200  \n",
       "Pop_9              331      146  \n",
       "Rock_10            101      781  "
      ]
     },
     "execution_count": 18,
     "metadata": {},
     "output_type": "execute_result"
    }
   ],
   "source": [
    "# rf confusion matrix; Predicted is columns, Actuals are rows\n",
    "rfConfusionData = confusion_matrix(y_test, predictedValues)\n",
    "\n",
    "rfConfusionDF = pd.DataFrame(\n",
    "    rfConfusionData,\n",
    "    index=genreIndex,\n",
    "    columns=genreIndex\n",
    ")\n",
    "rfConfusionDF"
   ]
  },
  {
   "cell_type": "code",
   "execution_count": 19,
   "id": "da4fb844",
   "metadata": {},
   "outputs": [
    {
     "name": "stdout",
     "output_type": "stream",
     "text": [
      "              precision    recall  f1-score   support\n",
      "\n",
      "           0       0.67      0.82      0.74       156\n",
      "           1       0.04      0.01      0.02       343\n",
      "           2       0.46      0.30      0.36       318\n",
      "           3       0.82      0.70      0.76       100\n",
      "           4       0.68      0.71      0.69        97\n",
      "           5       0.71      0.71      0.71       362\n",
      "           6       0.34      0.28      0.31       647\n",
      "           7       0.97      0.95      0.96       144\n",
      "           8       0.64      0.54      0.59       464\n",
      "           9       0.52      0.52      0.52       631\n",
      "          10       0.46      0.63      0.53      1237\n",
      "\n",
      "    accuracy                           0.51      4499\n",
      "   macro avg       0.57      0.56      0.56      4499\n",
      "weighted avg       0.49      0.51      0.50      4499\n",
      "\n"
     ]
    }
   ],
   "source": [
    "# classification report\n",
    "print(classification_report(y_test, predictedValues))"
   ]
  },
  {
   "cell_type": "code",
   "execution_count": 41,
   "id": "b417b742",
   "metadata": {},
   "outputs": [
    {
     "data": {
      "text/html": [
       "<div>\n",
       "<style scoped>\n",
       "    .dataframe tbody tr th:only-of-type {\n",
       "        vertical-align: middle;\n",
       "    }\n",
       "\n",
       "    .dataframe tbody tr th {\n",
       "        vertical-align: top;\n",
       "    }\n",
       "\n",
       "    .dataframe thead th {\n",
       "        text-align: right;\n",
       "    }\n",
       "</style>\n",
       "<table border=\"1\" class=\"dataframe\">\n",
       "  <thead>\n",
       "    <tr style=\"text-align: right;\">\n",
       "      <th></th>\n",
       "      <th>Feature Importances</th>\n",
       "    </tr>\n",
       "    <tr>\n",
       "      <th>1</th>\n",
       "      <th></th>\n",
       "    </tr>\n",
       "  </thead>\n",
       "  <tbody>\n",
       "    <tr>\n",
       "      <th>duration_in min/ms</th>\n",
       "      <td>0.120576</td>\n",
       "    </tr>\n",
       "    <tr>\n",
       "      <th>acousticness</th>\n",
       "      <td>0.103412</td>\n",
       "    </tr>\n",
       "    <tr>\n",
       "      <th>speechiness</th>\n",
       "      <td>0.098946</td>\n",
       "    </tr>\n",
       "    <tr>\n",
       "      <th>instrumentalness</th>\n",
       "      <td>0.090727</td>\n",
       "    </tr>\n",
       "    <tr>\n",
       "      <th>danceability</th>\n",
       "      <td>0.085935</td>\n",
       "    </tr>\n",
       "    <tr>\n",
       "      <th>energy</th>\n",
       "      <td>0.085606</td>\n",
       "    </tr>\n",
       "    <tr>\n",
       "      <th>valence</th>\n",
       "      <td>0.078787</td>\n",
       "    </tr>\n",
       "    <tr>\n",
       "      <th>Popularity</th>\n",
       "      <td>0.077640</td>\n",
       "    </tr>\n",
       "    <tr>\n",
       "      <th>loudness</th>\n",
       "      <td>0.076602</td>\n",
       "    </tr>\n",
       "    <tr>\n",
       "      <th>tempo</th>\n",
       "      <td>0.062187</td>\n",
       "    </tr>\n",
       "    <tr>\n",
       "      <th>liveness</th>\n",
       "      <td>0.061575</td>\n",
       "    </tr>\n",
       "    <tr>\n",
       "      <th>key</th>\n",
       "      <td>0.039291</td>\n",
       "    </tr>\n",
       "    <tr>\n",
       "      <th>mode</th>\n",
       "      <td>0.012119</td>\n",
       "    </tr>\n",
       "    <tr>\n",
       "      <th>time_signature</th>\n",
       "      <td>0.006597</td>\n",
       "    </tr>\n",
       "  </tbody>\n",
       "</table>\n",
       "</div>"
      ],
      "text/plain": [
       "                    Feature Importances\n",
       "1                                      \n",
       "duration_in min/ms             0.120576\n",
       "acousticness                   0.103412\n",
       "speechiness                    0.098946\n",
       "instrumentalness               0.090727\n",
       "danceability                   0.085935\n",
       "energy                         0.085606\n",
       "valence                        0.078787\n",
       "Popularity                     0.077640\n",
       "loudness                       0.076602\n",
       "tempo                          0.062187\n",
       "liveness                       0.061575\n",
       "key                            0.039291\n",
       "mode                           0.012119\n",
       "time_signature                 0.006597"
      ]
     },
     "execution_count": 41,
     "metadata": {},
     "output_type": "execute_result"
    }
   ],
   "source": [
    "# calculate feature importance \n",
    "importantFeatures = rfModel.feature_importances_\n",
    "featureNames = musicDF.drop(\"Class\", axis=1).columns\n",
    "\n",
    "# sort the features by their importance, zip them, and display them\n",
    "zippedFeatures = sorted(zip(importantFeatures, featureNames), reverse=True)\n",
    "importantFeaturesDF = pd.DataFrame(zippedFeatures)\n",
    "importantFeaturesDF.set_index(importantFeaturesDF[1], inplace=True)\n",
    "importantFeaturesDF.drop(columns=1, inplace=True)\n",
    "importantFeaturesDF.rename(columns={0: 'Feature Importances'}, inplace=True)\n",
    "importantFeaturesDF"
   ]
  },
  {
   "cell_type": "code",
   "execution_count": 48,
   "id": "b146f5a2",
   "metadata": {},
   "outputs": [
    {
     "data": {
      "text/plain": [
       "<Axes: title={'center': 'Feature Importance'}, ylabel='1'>"
      ]
     },
     "execution_count": 48,
     "metadata": {},
     "output_type": "execute_result"
    },
    {
     "data": {
      "image/png": "[encoded data removed]",
      "text/plain": [
       "<Figure size 640x480 with 1 Axes>"
      ]
     },
     "metadata": {},
     "output_type": "display_data"
    }
   ],
   "source": [
    "# horizontal bar chart\n",
    "importantFeaturesDFSorted = importantFeaturesDF.sort_values(by=\"Feature Importances\")\n",
    "importantFeaturesDFSorted.plot(\n",
    "    kind='barh',\n",
    "    title='Feature Importance',\n",
    "    legend=False\n",
    "    )"
   ]
  },
  {
   "cell_type": "markdown",
   "id": "0b495f2d",
   "metadata": {},
   "source": [
    "### Try a Logistic Regression Model with the Original Data"
   ]
  },
  {
   "cell_type": "code",
   "execution_count": 20,
   "id": "ef38f519",
   "metadata": {},
   "outputs": [
    {
     "data": {
      "text/html": [
       "<style>#sk-container-id-1 {color: black;background-color: white;}#sk-container-id-1 pre{padding: 0;}#sk-container-id-1 div.sk-toggleable {background-color: white;}#sk-container-id-1 label.sk-toggleable__label {cursor: pointer;display: block;width: 100%;margin-bottom: 0;padding: 0.3em;box-sizing: border-box;text-align: center;}#sk-container-id-1 label.sk-toggleable__label-arrow:before {content: \"▸\";float: left;margin-right: 0.25em;color: #696969;}#sk-container-id-1 label.sk-toggleable__label-arrow:hover:before {color: black;}#sk-container-id-1 div.sk-estimator:hover label.sk-toggleable__label-arrow:before {color: black;}#sk-container-id-1 div.sk-toggleable__content {max-height: 0;max-width: 0;overflow: hidden;text-align: left;background-color: #f0f8ff;}#sk-container-id-1 div.sk-toggleable__content pre {margin: 0.2em;color: black;border-radius: 0.25em;background-color: #f0f8ff;}#sk-container-id-1 input.sk-toggleable__control:checked~div.sk-toggleable__content {max-height: 200px;max-width: 100%;overflow: auto;}#sk-container-id-1 input.sk-toggleable__control:checked~label.sk-toggleable__label-arrow:before {content: \"▾\";}#sk-container-id-1 div.sk-estimator input.sk-toggleable__control:checked~label.sk-toggleable__label {background-color: #d4ebff;}#sk-container-id-1 div.sk-label input.sk-toggleable__control:checked~label.sk-toggleable__label {background-color: #d4ebff;}#sk-container-id-1 input.sk-hidden--visually {border: 0;clip: rect(1px 1px 1px 1px);clip: rect(1px, 1px, 1px, 1px);height: 1px;margin: -1px;overflow: hidden;padding: 0;position: absolute;width: 1px;}#sk-container-id-1 div.sk-estimator {font-family: monospace;background-color: #f0f8ff;border: 1px dotted black;border-radius: 0.25em;box-sizing: border-box;margin-bottom: 0.5em;}#sk-container-id-1 div.sk-estimator:hover {background-color: #d4ebff;}#sk-container-id-1 div.sk-parallel-item::after {content: \"\";width: 100%;border-bottom: 1px solid gray;flex-grow: 1;}#sk-container-id-1 div.sk-label:hover label.sk-toggleable__label {background-color: #d4ebff;}#sk-container-id-1 div.sk-serial::before {content: \"\";position: absolute;border-left: 1px solid gray;box-sizing: border-box;top: 0;bottom: 0;left: 50%;z-index: 0;}#sk-container-id-1 div.sk-serial {display: flex;flex-direction: column;align-items: center;background-color: white;padding-right: 0.2em;padding-left: 0.2em;position: relative;}#sk-container-id-1 div.sk-item {position: relative;z-index: 1;}#sk-container-id-1 div.sk-parallel {display: flex;align-items: stretch;justify-content: center;background-color: white;position: relative;}#sk-container-id-1 div.sk-item::before, #sk-container-id-1 div.sk-parallel-item::before {content: \"\";position: absolute;border-left: 1px solid gray;box-sizing: border-box;top: 0;bottom: 0;left: 50%;z-index: -1;}#sk-container-id-1 div.sk-parallel-item {display: flex;flex-direction: column;z-index: 1;position: relative;background-color: white;}#sk-container-id-1 div.sk-parallel-item:first-child::after {align-self: flex-end;width: 50%;}#sk-container-id-1 div.sk-parallel-item:last-child::after {align-self: flex-start;width: 50%;}#sk-container-id-1 div.sk-parallel-item:only-child::after {width: 0;}#sk-container-id-1 div.sk-dashed-wrapped {border: 1px dashed gray;margin: 0 0.4em 0.5em 0.4em;box-sizing: border-box;padding-bottom: 0.4em;background-color: white;}#sk-container-id-1 div.sk-label label {font-family: monospace;font-weight: bold;display: inline-block;line-height: 1.2em;}#sk-container-id-1 div.sk-label-container {text-align: center;}#sk-container-id-1 div.sk-container {/* jupyter's `normalize.less` sets `[hidden] { display: none; }` but bootstrap.min.css set `[hidden] { display: none !important; }` so we also need the `!important` here to be able to override the default hidden behavior on the sphinx rendered scikit-learn.org. See: https://github.com/scikit-learn/scikit-learn/issues/21755 */display: inline-block !important;position: relative;}#sk-container-id-1 div.sk-text-repr-fallback {display: none;}</style><div id=\"sk-container-id-1\" class=\"sk-top-container\"><div class=\"sk-text-repr-fallback\"><pre>LogisticRegression(random_state=1)</pre><b>In a Jupyter environment, please rerun this cell to show the HTML representation or trust the notebook. <br />On GitHub, the HTML representation is unable to render, please try loading this page with nbviewer.org.</b></div><div class=\"sk-container\" hidden><div class=\"sk-item\"><div class=\"sk-estimator sk-toggleable\"><input class=\"sk-toggleable__control sk-hidden--visually\" id=\"sk-estimator-id-1\" type=\"checkbox\" checked><label for=\"sk-estimator-id-1\" class=\"sk-toggleable__label sk-toggleable__label-arrow\">LogisticRegression</label><div class=\"sk-toggleable__content\"><pre>LogisticRegression(random_state=1)</pre></div></div></div></div></div>"
      ],
      "text/plain": [
       "LogisticRegression(random_state=1)"
      ]
     },
     "execution_count": 20,
     "metadata": {},
     "output_type": "execute_result"
    }
   ],
   "source": [
    "# Import the LogisticRegression module from SKLearn\n",
    "from sklearn.linear_model import LogisticRegression\n",
    "\n",
    "# Instantiate the Logistic Regression model\n",
    "# Assign a random_state parameter of 1 to the model\n",
    "classifierModel = LogisticRegression(solver='lbfgs', random_state=1)\n",
    "classifierModel"
   ]
  },
  {
   "cell_type": "code",
   "execution_count": 21,
   "id": "33c7fb25",
   "metadata": {},
   "outputs": [
    {
     "data": {
      "text/html": [
       "<style>#sk-container-id-2 {color: black;background-color: white;}#sk-container-id-2 pre{padding: 0;}#sk-container-id-2 div.sk-toggleable {background-color: white;}#sk-container-id-2 label.sk-toggleable__label {cursor: pointer;display: block;width: 100%;margin-bottom: 0;padding: 0.3em;box-sizing: border-box;text-align: center;}#sk-container-id-2 label.sk-toggleable__label-arrow:before {content: \"▸\";float: left;margin-right: 0.25em;color: #696969;}#sk-container-id-2 label.sk-toggleable__label-arrow:hover:before {color: black;}#sk-container-id-2 div.sk-estimator:hover label.sk-toggleable__label-arrow:before {color: black;}#sk-container-id-2 div.sk-toggleable__content {max-height: 0;max-width: 0;overflow: hidden;text-align: left;background-color: #f0f8ff;}#sk-container-id-2 div.sk-toggleable__content pre {margin: 0.2em;color: black;border-radius: 0.25em;background-color: #f0f8ff;}#sk-container-id-2 input.sk-toggleable__control:checked~div.sk-toggleable__content {max-height: 200px;max-width: 100%;overflow: auto;}#sk-container-id-2 input.sk-toggleable__control:checked~label.sk-toggleable__label-arrow:before {content: \"▾\";}#sk-container-id-2 div.sk-estimator input.sk-toggleable__control:checked~label.sk-toggleable__label {background-color: #d4ebff;}#sk-container-id-2 div.sk-label input.sk-toggleable__control:checked~label.sk-toggleable__label {background-color: #d4ebff;}#sk-container-id-2 input.sk-hidden--visually {border: 0;clip: rect(1px 1px 1px 1px);clip: rect(1px, 1px, 1px, 1px);height: 1px;margin: -1px;overflow: hidden;padding: 0;position: absolute;width: 1px;}#sk-container-id-2 div.sk-estimator {font-family: monospace;background-color: #f0f8ff;border: 1px dotted black;border-radius: 0.25em;box-sizing: border-box;margin-bottom: 0.5em;}#sk-container-id-2 div.sk-estimator:hover {background-color: #d4ebff;}#sk-container-id-2 div.sk-parallel-item::after {content: \"\";width: 100%;border-bottom: 1px solid gray;flex-grow: 1;}#sk-container-id-2 div.sk-label:hover label.sk-toggleable__label {background-color: #d4ebff;}#sk-container-id-2 div.sk-serial::before {content: \"\";position: absolute;border-left: 1px solid gray;box-sizing: border-box;top: 0;bottom: 0;left: 50%;z-index: 0;}#sk-container-id-2 div.sk-serial {display: flex;flex-direction: column;align-items: center;background-color: white;padding-right: 0.2em;padding-left: 0.2em;position: relative;}#sk-container-id-2 div.sk-item {position: relative;z-index: 1;}#sk-container-id-2 div.sk-parallel {display: flex;align-items: stretch;justify-content: center;background-color: white;position: relative;}#sk-container-id-2 div.sk-item::before, #sk-container-id-2 div.sk-parallel-item::before {content: \"\";position: absolute;border-left: 1px solid gray;box-sizing: border-box;top: 0;bottom: 0;left: 50%;z-index: -1;}#sk-container-id-2 div.sk-parallel-item {display: flex;flex-direction: column;z-index: 1;position: relative;background-color: white;}#sk-container-id-2 div.sk-parallel-item:first-child::after {align-self: flex-end;width: 50%;}#sk-container-id-2 div.sk-parallel-item:last-child::after {align-self: flex-start;width: 50%;}#sk-container-id-2 div.sk-parallel-item:only-child::after {width: 0;}#sk-container-id-2 div.sk-dashed-wrapped {border: 1px dashed gray;margin: 0 0.4em 0.5em 0.4em;box-sizing: border-box;padding-bottom: 0.4em;background-color: white;}#sk-container-id-2 div.sk-label label {font-family: monospace;font-weight: bold;display: inline-block;line-height: 1.2em;}#sk-container-id-2 div.sk-label-container {text-align: center;}#sk-container-id-2 div.sk-container {/* jupyter's `normalize.less` sets `[hidden] { display: none; }` but bootstrap.min.css set `[hidden] { display: none !important; }` so we also need the `!important` here to be able to override the default hidden behavior on the sphinx rendered scikit-learn.org. See: https://github.com/scikit-learn/scikit-learn/issues/21755 */display: inline-block !important;position: relative;}#sk-container-id-2 div.sk-text-repr-fallback {display: none;}</style><div id=\"sk-container-id-2\" class=\"sk-top-container\"><div class=\"sk-text-repr-fallback\"><pre>LogisticRegression(random_state=1)</pre><b>In a Jupyter environment, please rerun this cell to show the HTML representation or trust the notebook. <br />On GitHub, the HTML representation is unable to render, please try loading this page with nbviewer.org.</b></div><div class=\"sk-container\" hidden><div class=\"sk-item\"><div class=\"sk-estimator sk-toggleable\"><input class=\"sk-toggleable__control sk-hidden--visually\" id=\"sk-estimator-id-2\" type=\"checkbox\" checked><label for=\"sk-estimator-id-2\" class=\"sk-toggleable__label sk-toggleable__label-arrow\">LogisticRegression</label><div class=\"sk-toggleable__content\"><pre>LogisticRegression(random_state=1)</pre></div></div></div></div></div>"
      ],
      "text/plain": [
       "LogisticRegression(random_state=1)"
      ]
     },
     "execution_count": 21,
     "metadata": {},
     "output_type": "execute_result"
    }
   ],
   "source": [
    "# Fit the model using training data\n",
    "classifierModel.fit(X_train, y_train)"
   ]
  },
  {
   "cell_type": "code",
   "execution_count": 22,
   "id": "01502a23",
   "metadata": {},
   "outputs": [
    {
     "name": "stdout",
     "output_type": "stream",
     "text": [
      "Model Score (Accuracy) - Trained Data: 0.2968066977846929\n"
     ]
    }
   ],
   "source": [
    "# validate the model using the test data - use .score() function to get the accuracy\n",
    "model_score_train = classifierModel.score(X_train, y_train)\n",
    "print(\"Model Score (Accuracy) - Trained Data:\", model_score_train)"
   ]
  },
  {
   "cell_type": "code",
   "execution_count": 23,
   "id": "e62a09e2",
   "metadata": {},
   "outputs": [
    {
     "name": "stdout",
     "output_type": "stream",
     "text": [
      "Logistic Regression Model Score (Accuracy): 0.29628806401422536\n"
     ]
    }
   ],
   "source": [
    "model_score_test = classifierModel.score(X_test, y_test)\n",
    "print(\"Logistic Regression Model Score (Accuracy):\", model_score_test)"
   ]
  },
  {
   "cell_type": "markdown",
   "id": "ab63b066",
   "metadata": {},
   "source": [
    "### Try K Nearest Neighbor (KNN) Classifyier"
   ]
  },
  {
   "cell_type": "code",
   "execution_count": 24,
   "id": "1e0015ea",
   "metadata": {},
   "outputs": [
    {
     "data": {
      "text/plain": [
       "11"
      ]
     },
     "execution_count": 24,
     "metadata": {},
     "output_type": "execute_result"
    }
   ],
   "source": [
    "unique_genres = musicDF['Class'].nunique()\n",
    "unique_genres"
   ]
  },
  {
   "cell_type": "code",
   "execution_count": 25,
   "id": "b9412767",
   "metadata": {},
   "outputs": [
    {
     "data": {
      "text/html": [
       "<style>#sk-container-id-3 {color: black;background-color: white;}#sk-container-id-3 pre{padding: 0;}#sk-container-id-3 div.sk-toggleable {background-color: white;}#sk-container-id-3 label.sk-toggleable__label {cursor: pointer;display: block;width: 100%;margin-bottom: 0;padding: 0.3em;box-sizing: border-box;text-align: center;}#sk-container-id-3 label.sk-toggleable__label-arrow:before {content: \"▸\";float: left;margin-right: 0.25em;color: #696969;}#sk-container-id-3 label.sk-toggleable__label-arrow:hover:before {color: black;}#sk-container-id-3 div.sk-estimator:hover label.sk-toggleable__label-arrow:before {color: black;}#sk-container-id-3 div.sk-toggleable__content {max-height: 0;max-width: 0;overflow: hidden;text-align: left;background-color: #f0f8ff;}#sk-container-id-3 div.sk-toggleable__content pre {margin: 0.2em;color: black;border-radius: 0.25em;background-color: #f0f8ff;}#sk-container-id-3 input.sk-toggleable__control:checked~div.sk-toggleable__content {max-height: 200px;max-width: 100%;overflow: auto;}#sk-container-id-3 input.sk-toggleable__control:checked~label.sk-toggleable__label-arrow:before {content: \"▾\";}#sk-container-id-3 div.sk-estimator input.sk-toggleable__control:checked~label.sk-toggleable__label {background-color: #d4ebff;}#sk-container-id-3 div.sk-label input.sk-toggleable__control:checked~label.sk-toggleable__label {background-color: #d4ebff;}#sk-container-id-3 input.sk-hidden--visually {border: 0;clip: rect(1px 1px 1px 1px);clip: rect(1px, 1px, 1px, 1px);height: 1px;margin: -1px;overflow: hidden;padding: 0;position: absolute;width: 1px;}#sk-container-id-3 div.sk-estimator {font-family: monospace;background-color: #f0f8ff;border: 1px dotted black;border-radius: 0.25em;box-sizing: border-box;margin-bottom: 0.5em;}#sk-container-id-3 div.sk-estimator:hover {background-color: #d4ebff;}#sk-container-id-3 div.sk-parallel-item::after {content: \"\";width: 100%;border-bottom: 1px solid gray;flex-grow: 1;}#sk-container-id-3 div.sk-label:hover label.sk-toggleable__label {background-color: #d4ebff;}#sk-container-id-3 div.sk-serial::before {content: \"\";position: absolute;border-left: 1px solid gray;box-sizing: border-box;top: 0;bottom: 0;left: 50%;z-index: 0;}#sk-container-id-3 div.sk-serial {display: flex;flex-direction: column;align-items: center;background-color: white;padding-right: 0.2em;padding-left: 0.2em;position: relative;}#sk-container-id-3 div.sk-item {position: relative;z-index: 1;}#sk-container-id-3 div.sk-parallel {display: flex;align-items: stretch;justify-content: center;background-color: white;position: relative;}#sk-container-id-3 div.sk-item::before, #sk-container-id-3 div.sk-parallel-item::before {content: \"\";position: absolute;border-left: 1px solid gray;box-sizing: border-box;top: 0;bottom: 0;left: 50%;z-index: -1;}#sk-container-id-3 div.sk-parallel-item {display: flex;flex-direction: column;z-index: 1;position: relative;background-color: white;}#sk-container-id-3 div.sk-parallel-item:first-child::after {align-self: flex-end;width: 50%;}#sk-container-id-3 div.sk-parallel-item:last-child::after {align-self: flex-start;width: 50%;}#sk-container-id-3 div.sk-parallel-item:only-child::after {width: 0;}#sk-container-id-3 div.sk-dashed-wrapped {border: 1px dashed gray;margin: 0 0.4em 0.5em 0.4em;box-sizing: border-box;padding-bottom: 0.4em;background-color: white;}#sk-container-id-3 div.sk-label label {font-family: monospace;font-weight: bold;display: inline-block;line-height: 1.2em;}#sk-container-id-3 div.sk-label-container {text-align: center;}#sk-container-id-3 div.sk-container {/* jupyter's `normalize.less` sets `[hidden] { display: none; }` but bootstrap.min.css set `[hidden] { display: none !important; }` so we also need the `!important` here to be able to override the default hidden behavior on the sphinx rendered scikit-learn.org. See: https://github.com/scikit-learn/scikit-learn/issues/21755 */display: inline-block !important;position: relative;}#sk-container-id-3 div.sk-text-repr-fallback {display: none;}</style><div id=\"sk-container-id-3\" class=\"sk-top-container\"><div class=\"sk-text-repr-fallback\"><pre>KNeighborsClassifier(n_neighbors=11)</pre><b>In a Jupyter environment, please rerun this cell to show the HTML representation or trust the notebook. <br />On GitHub, the HTML representation is unable to render, please try loading this page with nbviewer.org.</b></div><div class=\"sk-container\" hidden><div class=\"sk-item\"><div class=\"sk-estimator sk-toggleable\"><input class=\"sk-toggleable__control sk-hidden--visually\" id=\"sk-estimator-id-3\" type=\"checkbox\" checked><label for=\"sk-estimator-id-3\" class=\"sk-toggleable__label sk-toggleable__label-arrow\">KNeighborsClassifier</label><div class=\"sk-toggleable__content\"><pre>KNeighborsClassifier(n_neighbors=11)</pre></div></div></div></div></div>"
      ],
      "text/plain": [
       "KNeighborsClassifier(n_neighbors=11)"
      ]
     },
     "execution_count": 25,
     "metadata": {},
     "output_type": "execute_result"
    }
   ],
   "source": [
    "from sklearn.neighbors import KNeighborsClassifier\n",
    "\n",
    "knn = KNeighborsClassifier(n_neighbors=11)\n",
    "knn.fit(xTrainScaled, y_train)\n"
   ]
  },
  {
   "cell_type": "code",
   "execution_count": 26,
   "id": "48d13ddd",
   "metadata": {},
   "outputs": [],
   "source": [
    "predictedValues = knn.predict(xTestScaled)"
   ]
  },
  {
   "cell_type": "code",
   "execution_count": 27,
   "id": "1fce0a99",
   "metadata": {},
   "outputs": [
    {
     "name": "stdout",
     "output_type": "stream",
     "text": [
      "KNN Model Accuracy Score: 46.48%\n"
     ]
    }
   ],
   "source": [
    "# calculate the accuracy score\n",
    "accuracyScore = accuracy_score(y_test, predictedValues)\n",
    "print(f\"KNN Model Accuracy Score: {(accuracyScore*100):.2f}%\")"
   ]
  },
  {
   "cell_type": "markdown",
   "id": "0908df48",
   "metadata": {},
   "source": [
    "## GENRE PREDICTOR"
   ]
  },
  {
   "cell_type": "code",
   "execution_count": 28,
   "id": "931ed492",
   "metadata": {},
   "outputs": [
    {
     "data": {
      "application/vnd.jupyter.widget-view+json": {
       "model_id": "cb55760c9d494c309f910bdb335f8865",
       "version_major": 2,
       "version_minor": 0
      },
      "text/plain": [
       "Dropdown(options=((\"That's What I Like (feat. Gucci Mane) - Bruno Mars\", \"That's What I Like (feat. Gucci Mane…"
      ]
     },
     "metadata": {},
     "output_type": "display_data"
    }
   ],
   "source": [
    "from ipywidgets import interact, Dropdown\n",
    "\n",
    "# Fill in nan's with 0\n",
    "musicData = musicData.fillna(0)\n",
    "\n",
    "# select the trained and tested model to use: rfModel or knn; this could be made a dropdown as well\n",
    "modelType = rfModel\n",
    "\n",
    "# Create the dropdown options with Track Name and Artist Name\n",
    "dropdown_options = [(f\"{track} - {artist}\", track) for track, artist in zip(musicData['Track Name'], musicData['Artist Name'])]\n",
    "dropdown = Dropdown(options=dropdown_options)\n",
    "\n",
    "# Define a function to handle the dropdown value change\n",
    "def on_dropdown_change(change):\n",
    "    # Retrieve the selected value from the dropdown\n",
    "    selected_track = change.new\n",
    "    \n",
    "    # Update the 'sample_track_name' variable with the selected value\n",
    "    sample_track_name = selected_track\n",
    "    \n",
    "    # Continue with the rest of the code\n",
    "    sample_data = musicData[musicData['Track Name'] == sample_track_name].values\n",
    "    sample_artist_name = sample_data[0, 0]\n",
    "    sample_actual_genre = sample_artist_name = sample_data[0, 16]\n",
    "    sample_data = sample_data[:, 2:-1]\n",
    "    sample_data_scaled = scaler.transform(sample_data)  # Preprocess the sample data using the scaler\n",
    "\n",
    "    # Make the prediction\n",
    "    prediction = modelType.predict(sample_data_scaled)\n",
    "\n",
    "    # Convert prediction output to Genre\n",
    "    genre_label = {\n",
    "        0: 'Acoustic/Folk_0',\n",
    "        1: 'Alt_Music_1',\n",
    "        2: 'Blues_2',\n",
    "        3: 'Bollywood_3',\n",
    "        4: 'Country_4',\n",
    "        5: 'HipHop_5',\n",
    "        6: 'Indie Alt_6',\n",
    "        7: 'Instrumental_7',\n",
    "        8: 'Metal_8',\n",
    "        9: 'Pop_9',\n",
    "        10: 'Rock_10'\n",
    "    }\n",
    "\n",
    "    predicted_genre = genre_label[prediction[0]]\n",
    "    actual_genre = genre_label[sample_actual_genre]  \n",
    "\n",
    "    print(f\"Predicted genre for the sample '{sample_track_name}': {predicted_genre}\")\n",
    "    print(f\"Actual genre for the sample '{sample_track_name}': {actual_genre}\")\n",
    "\n",
    "# Register the function to handle the dropdown value change event\n",
    "dropdown.observe(on_dropdown_change, names='value')\n",
    "\n",
    "# Display the dropdown\n",
    "display(dropdown)"
   ]
  },
  {
   "cell_type": "markdown",
   "id": "6568d700",
   "metadata": {},
   "source": [
    "## SPOTIFY GENRE CLASSIFIER"
   ]
  },
  {
   "cell_type": "code",
   "execution_count": 29,
   "id": "c9cd0bc6",
   "metadata": {},
   "outputs": [],
   "source": [
    "import spotipy\n",
    "from spotipy.oauth2 import SpotifyClientCredentials\n",
    "\n",
    "import ipywidgets as widgets\n",
    "from IPython.display import display"
   ]
  },
  {
   "cell_type": "code",
   "execution_count": 30,
   "id": "57edbe08",
   "metadata": {},
   "outputs": [],
   "source": [
    "# Set up your Spotify API credentials\n",
    "client_id = '7f37bb631ed34cf29a487f88d5c5e32f'\n",
    "client_secret = 'aff5f020a49b470f99d7a3c251f5b649'\n",
    "\n",
    "# Authenticate with the Spotify API\n",
    "client_credentials_manager = SpotifyClientCredentials(client_id=client_id, client_secret=client_secret)\n",
    "sp = spotipy.Spotify(client_credentials_manager=client_credentials_manager)\n",
    "\n",
    "# Define a function to get track audio features\n",
    "def get_track_audio_features(artist_name, track_name):\n",
    "    # Search for the track\n",
    "    results = sp.search(q=f\"artist:{artist_name} track:{track_name}\", type='track')\n",
    "\n",
    "    # Check if the search results contain any tracks\n",
    "    if len(results['tracks']['items']) == 0:\n",
    "        print(f\"No track found for '{artist_name} - {track_name}'\")\n",
    "        return None\n",
    "\n",
    "    # Get the first track from the search results\n",
    "    track = results['tracks']['items'][0]\n",
    "\n",
    "    # Get the track's ID\n",
    "    track_id = track['id']\n",
    "\n",
    "    # Get audio features for the track\n",
    "    audio_features = sp.audio_features(track_id)\n",
    "\n",
    "    # Extract desired features\n",
    "    track_features = {}\n",
    "#    track_features['Artist'] = artist_name\n",
    "#    track_features['Track'] = track_name\n",
    "    track_features['Popularity'] = track['popularity']\n",
    "    track_features['Danceability'] = audio_features[0]['danceability']\n",
    "    track_features['Energy'] = audio_features[0]['energy']\n",
    "    track_features['Key'] = audio_features[0]['key']\n",
    "    track_features['Loudness'] = audio_features[0]['loudness']\n",
    "    track_features['Mode'] = audio_features[0]['mode']\n",
    "    track_features['Speechiness'] = audio_features[0]['speechiness']\n",
    "    track_features['Acousticness'] = audio_features[0]['acousticness']\n",
    "    track_features['Instrumentalness'] = audio_features[0]['instrumentalness']\n",
    "    track_features['Liveness'] = audio_features[0]['liveness']\n",
    "    track_features['Valence'] = audio_features[0]['valence']\n",
    "    track_features['Tempo'] = audio_features[0]['tempo']\n",
    "    track_features['Duration (ms)'] = audio_features[0]['duration_ms']\n",
    "    track_features['Time Signature'] = audio_features[0]['time_signature']\n",
    "\n",
    "    return track_features\n"
   ]
  },
  {
   "cell_type": "code",
   "execution_count": 31,
   "id": "6811df4d",
   "metadata": {},
   "outputs": [],
   "source": [
    "def predict_genre(feature_array): \n",
    "    feature_array = np.array(feature_array).reshape(1, -1)\n",
    "    spotify_track_scaled = scaler.transform(feature_array)  # Preprocess the sample data using the scaler\n",
    "\n",
    "    # Make the prediction\n",
    "    prediction = modelType.predict(spotify_track_scaled)\n",
    "\n",
    "    # Convert prediction output to Genre\n",
    "    genre_label = {\n",
    "        0: 'Acoustic/Folk_0',\n",
    "        1: 'Alt_Music_1',\n",
    "        2: 'Blues_2',\n",
    "        3: 'Bollywood_3',\n",
    "        4: 'Country_4',\n",
    "        5: 'HipHop_5',\n",
    "        6: 'Indie Alt_6',\n",
    "        7: 'Instrumental_7',\n",
    "        8: 'Metal_8',\n",
    "        9: 'Pop_9',\n",
    "        10: 'Rock_10'\n",
    "    }\n",
    "\n",
    "    predicted_genre = genre_label[prediction[0]]\n",
    "    \n",
    "    return predicted_genre\n",
    "\n"
   ]
  },
  {
   "cell_type": "code",
   "execution_count": 32,
   "id": "e07091ed",
   "metadata": {},
   "outputs": [],
   "source": [
    "def show_track_prediction(track_name, artist_name):\n",
    "    # Get the user input\n",
    "    #track_name = track_name_widget.value\n",
    "    #artist_name = artist_name_widget.value\n",
    "\n",
    "    # Print the user input\n",
    "    print(f\"Track Name: {track_name}\")\n",
    "    print(f\"Artist Name: {artist_name}\")\n",
    "\n",
    "    track_features = get_track_audio_features(artist_name, track_name)\n",
    "\n",
    "    # Check if track features are available\n",
    "    if track_features is not None:\n",
    "\n",
    "        # Convert the dictionary to an array\n",
    "        feature_array = [track_features[key] for key in track_features]\n",
    "\n",
    "        # Print the feature array\n",
    "        #print(feature_array)\n",
    "\n",
    "        predicted_genre = predict_genre(feature_array)\n",
    "\n",
    "        print(f\"Predicted genre for '{track_name}' by {artist_name}: {predicted_genre}\")"
   ]
  },
  {
   "cell_type": "code",
   "execution_count": 33,
   "id": "c3cbfc05",
   "metadata": {},
   "outputs": [
    {
     "data": {
      "application/vnd.jupyter.widget-view+json": {
       "model_id": "0f0585f9c9f44b64b1cf3419c44892ae",
       "version_major": 2,
       "version_minor": 0
      },
      "text/plain": [
       "Text(value='', description='Track Name:')"
      ]
     },
     "metadata": {},
     "output_type": "display_data"
    },
    {
     "data": {
      "application/vnd.jupyter.widget-view+json": {
       "model_id": "87ba950381b94fb186b636b545d1edaa",
       "version_major": 2,
       "version_minor": 0
      },
      "text/plain": [
       "Text(value='', description='Artist Name:')"
      ]
     },
     "metadata": {},
     "output_type": "display_data"
    },
    {
     "data": {
      "application/vnd.jupyter.widget-view+json": {
       "model_id": "d9c3f467f7a748a9ac96f6d9301786fe",
       "version_major": 2,
       "version_minor": 0
      },
      "text/plain": [
       "Button(description='Predict Genre', style=ButtonStyle())"
      ]
     },
     "metadata": {},
     "output_type": "display_data"
    },
    {
     "name": "stdout",
     "output_type": "stream",
     "text": [
      "Track Name: ATLiens\n",
      "Artist Name: Outkast\n",
      "Predicted genre for 'ATLiens' by Outkast: HipHop_5\n"
     ]
    }
   ],
   "source": [
    "# Create text input widgets\n",
    "track_name_widget = widgets.Text(description='Track Name:')\n",
    "artist_name_widget = widgets.Text(description='Artist Name:')\n",
    "\n",
    "# Create button widget\n",
    "button = widgets.Button(description='Get Genre')\n",
    "\n",
    "# Define function to handle button click event\n",
    "def on_button_click(b):\n",
    "    track_name = track_name_widget.value\n",
    "    artist_name = artist_name_widget.value\n",
    "    show_track_prediction(track_name, artist_name)\n",
    "\n",
    "# Attach button click event handler\n",
    "button.on_click(on_button_click)\n",
    "\n",
    "# Display the widgets\n",
    "display(track_name_widget)\n",
    "display(artist_name_widget)\n",
    "display(button)"
   ]
  },
  {
   "cell_type": "code",
   "execution_count": null,
   "id": "6a0882bb",
   "metadata": {},
   "outputs": [],
   "source": []
  }
 ],
 "metadata": {
  "kernelspec": {
   "display_name": "Python 3 (ipykernel)",
   "language": "python",
   "name": "python3"
  },
  "language_info": {
   "codemirror_mode": {
    "name": "ipython",
    "version": 3
   },
   "file_extension": ".py",
   "mimetype": "text/x-python",
   "name": "python",
   "nbconvert_exporter": "python",
   "pygments_lexer": "ipython3",
   "version": "3.11.2"
  }
 },
 "nbformat": 4,
 "nbformat_minor": 5
}
